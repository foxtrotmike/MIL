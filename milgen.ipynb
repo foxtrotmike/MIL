{
  "nbformat": 4,
  "nbformat_minor": 0,
  "metadata": {
    "colab": {
      "name": "milgen.ipynb",
      "provenance": [],
      "collapsed_sections": [],
      "include_colab_link": true
    },
    "kernelspec": {
      "name": "python3",
      "display_name": "Python 3"
    }
  },
  "cells": [
    {
      "cell_type": "markdown",
      "metadata": {
        "id": "view-in-github",
        "colab_type": "text"
      },
      "source": [
        "<a href=\"https://colab.research.google.com/github/foxtrotmike/MIL/blob/master/milgen.ipynb\" target=\"_parent\"><img src=\"https://colab.research.google.com/assets/colab-badge.svg\" alt=\"Open In Colab\"/></a>"
      ]
    },
    {
      "cell_type": "markdown",
      "metadata": {
        "id": "J3ec6O1A4lEn",
        "colab_type": "text"
      },
      "source": [
        "# Why random patch selection from Pathology images is a good idea\n",
        "\n",
        "If we select a random patch from an image during training in each step then, even if the probability of it being useful for our learning problem is low (say p = 0.01), the over n iterations of selecting patches, the probability that no useful patch was selected is $Q(n) = (1-p)^n$ which decays very fast. Thus, we should select a patch at random from a given WSI during training. Below is a plot of Q vs n.\n",
        "\n",
        "\n",
        "\n"
      ]
    },
    {
      "cell_type": "code",
      "metadata": {
        "id": "oHhsNeBn5lum",
        "colab_type": "code",
        "colab": {
          "base_uri": "https://localhost:8080/",
          "height": 279
        },
        "outputId": "8556b36b-c907-490e-ca9c-14dc1cc473a6"
      },
      "source": [
        "import numpy as np\n",
        "import matplotlib.pyplot as plt\n",
        "\n",
        "n = np.arange(1,500)\n",
        "p = 0.01\n",
        "Q = (1-p)**n\n",
        "plt.plot(n,Q);plt.xlabel('n');plt.ylabel('Probability that no patch is useful'); plt.grid()\n"
      ],
      "execution_count": 18,
      "outputs": [
        {
          "output_type": "display_data",
          "data": {
            "image/png": "[encoded data removed]",
            "text/plain": [
              "<Figure size 432x288 with 1 Axes>"
            ]
          },
          "metadata": {
            "tags": []
          }
        }
      ]
    },
    {
      "cell_type": "markdown",
      "metadata": {
        "id": "-_4ylDM_6Cce",
        "colab_type": "text"
      },
      "source": [
        "# Why we should retain the maximum scoring patch in each image\n",
        "\n",
        "Together with random patch selection, it may be a good idea to retain the maximum socring patch in each WSI image during training. We cannot fit all patches from the slide in memory with existing GPUs. However, we can do a sort of a stochastic hill-climbing based approach for getting a good patch from each WSI.\n",
        "\n",
        "This is demonstrated below with a simple experiment: Assume we have a huge array (here Z with 1000 elements) that we cannot fit all into memory and we want to find the maximum scoring element. We can pick a few random elements from the array that we can fit into memory and calculate the max of these elemnts as in the algo below. We do it repeatedly and, as you can see below, we converge very quickly to a good approximation of the actually max (much earlier than iterating through the whole array!)"
      ]
    },
    {
      "cell_type": "code",
      "metadata": {
        "id": "lhPXmNCV6XYR",
        "colab_type": "code",
        "colab": {
          "base_uri": "https://localhost:8080/",
          "height": 352
        },
        "outputId": "cb440501-59e1-4979-e724-14c0f49d420a"
      },
      "source": [
        "n = 1000\n",
        "s = 3\n",
        "Z = np.random.rand(n)\n",
        "def randMax(Z,s = 1):\n",
        "  M = -np.inf\n",
        "  MaxSoFar = []\n",
        "  for i in range(n):\n",
        "    m = np.max(np.random.choice(Z,s))\n",
        "    if m>M:\n",
        "      M = m\n",
        "    MaxSoFar.append(M)\n",
        "  return np.array(MaxSoFar)\n",
        "\n",
        "Max_s = randMax(Z,s = 3)\n",
        "ActualMax = np.max(Z)\n",
        "plt.plot(ActualMax-Max_s)\n",
        "plt.ylabel('Difference between max at current iteration and the actual max')\n",
        "plt.xlabel('Iteration')\n",
        "plt.grid()"
      ],
      "execution_count": 20,
      "outputs": [
        {
          "output_type": "display_data",
          "data": {
            "image/png": "[encoded data removed]",
            "text/plain": [
              "<Figure size 432x288 with 1 Axes>"
            ]
          },
          "metadata": {
            "tags": []
          }
        }
      ]
    },
    {
      "cell_type": "markdown",
      "metadata": {
        "id": "SwktkKMj9mB3",
        "colab_type": "text"
      },
      "source": [
        "# Conclusion: \n",
        "\n",
        "We should select a number of patches from a given image in each iteration and keep a tally of the current maximum scoring patch from a WSI. We can do this for multiple images in the training set at the same time.\n",
        "\n",
        "The code below shows some ideas on how this can be done in PyTorch."
      ]
    },
    {
      "cell_type": "code",
      "metadata": {
        "id": "rCZMHTUcgSeG",
        "colab_type": "code",
        "outputId": "4d8c5e3f-9d2f-415b-e201-a9fa22cde67c",
        "colab": {
          "base_uri": "https://localhost:8080/",
          "height": 187
        }
      },
      "source": [
        "# -*- coding: utf-8 -*-\n",
        "\"\"\"\n",
        "Created on Tue Dec 17 01:47:34 2019\n",
        "How to do MIL when the bag just won't fit into memory: Use hill climbing search\n",
        "This should require significantly less number of bags in comparison to the Fuchs paper\n",
        "(https://arxiv.org/abs/1805.06983)\n",
        "Idea: (inspired from ESMIL)\n",
        "In each iteration\n",
        "  Chose a positive and a negative bag (WSI)\n",
        "  Load random examples (patches) from a bag (WSI)\n",
        "  Append to it, the last max scoring example of the bag\n",
        "  Evaluate all examples in the bag using the given model\n",
        "  Save max scoring example of the bag to file\n",
        "  Compute loss based on the positive and negative bag\n",
        "  Backpropagate\n",
        "Assumptions: Each bag (WSI) has an ID and there is an efficient way to load random examples (patches) for a bag (WSI)\n",
        "Losely Based on: https://stanford.edu/~shervine/blog/pytorch-how-to-generate-data-parallel\n",
        "@author: Fayyaz Minhas\n",
        "\"\"\"\n",
        "import numpy as np\n",
        "import torch\n",
        "from torch.utils import data\n",
        "\n",
        "class MILDataset(data.Dataset):\n",
        "  'Characterizes a Multiple Instance dataset for PyTorch'\n",
        "  def __init__(self, list_IDs, labels, maxsize = None):\n",
        "        'Initialization'\n",
        "        self.labels = labels #dictionary of id to label\n",
        "        self.list_IDs = list_IDs #list of ids\n",
        "        self.maxsize = maxsize #max size to load at once\n",
        "  def __len__(self):\n",
        "        'Denotes the total number of samples'\n",
        "        return len(self.list_IDs)\n",
        "\n",
        "  def __getitem__(self, index):\n",
        "        'Generates one sample of data'\n",
        "        # Select sample\n",
        "        ID = self.list_IDs[index]\n",
        "        if self.maxsize is None:\n",
        "          maxsize = 10 #load all?\n",
        "        else:\n",
        "          maxsize = self.maxsize\n",
        "        #Load random examples (patches) from bag file (WSI) based on ID   \n",
        "        # Preferably a fast mechanism of loading random patches\n",
        "        X = np.random.rand(maxsize,2) #temporary random data\n",
        "        # load the top scoring patch (example) for this id if it exists\n",
        "        #xtop = load('data/' + ID + '.top')\n",
        "        xtop = np.random.rand(1,2) #temporary random data\n",
        "        # can do data augmentation as well if required here\n",
        "        X = np.vstack((X,xtop))\n",
        "        y = self.labels[ID]\n",
        "        return X,ID,y\n",
        "    \n",
        "# CUDA for PyTorch\n",
        "use_cuda = torch.cuda.is_available()\n",
        "device = torch.device(\"cuda:0\" if use_cuda else \"cpu\")\n",
        "#cudnn.benchmark = True\n",
        "max_iters = 10 #ensure that each bag is selected multiple times\n",
        "# Datasets\n",
        "partition = {'pos': ['id-1', 'id-2', 'id-3'], 'neg': ['id-4','id-5']}# IDs (bag ids or WSI names)\n",
        "labels = dict([(k,1.0) for k in partition['pos']]+[(k,-1.0) for k in partition['neg']]) \n",
        "# Generators (for positive and negative bags)\n",
        "posgen = data.DataLoader(MILDataset(partition['pos'], labels), pin_memory = True, shuffle = True) #disable pin_memory if the data cannot fit into GPU memory\n",
        "neggen = data.DataLoader(MILDataset(partition['neg'], labels), pin_memory = True, shuffle = True)\n",
        "positer, negiter = iter(posgen), iter(neggen)\n",
        "# Loop over epochs\n",
        "for i in range(max_iters):\n",
        "  # Selecting a positive and a negative bag randomly\n",
        "    try: #not pretty but works!\n",
        "      PX,Pid,_ = next(positer)\n",
        "    except StopIteration:\n",
        "      positer = iter(posgen)\n",
        "      PX,Pid,_ = next(positer)\n",
        "    PX,Pid = PX[0],Pid[0]\n",
        "    # pass each example one by one .to(device) and score the max (try with all at once as well)\n",
        "    try:\n",
        "      NX,Nid,_ = next(negiter)\n",
        "    except StopIteration:\n",
        "      negiter = iter(neggen)\n",
        "      NX,Nid,_ = next(negiter)\n",
        "    NX,Nid = NX[0],Nid[0]\n",
        "    # pass each example one by one .to(device) and score the max (try with all at once as well)\n",
        "    print(i,Pid,Nid)\n",
        "  # TODO: compute score over PX and NX. Save top scoring patch of each to a file\n",
        "    # so it can be loaded\n",
        "  # TODO: Comput loss and backpropagate"
      ],
      "execution_count": 22,
      "outputs": [
        {
          "output_type": "stream",
          "text": [
            "0 id-1 id-5\n",
            "1 id-3 id-4\n",
            "2 id-2 id-4\n",
            "3 id-1 id-5\n",
            "4 id-2 id-4\n",
            "5 id-3 id-5\n",
            "6 id-3 id-4\n",
            "7 id-1 id-5\n",
            "8 id-2 id-5\n",
            "9 id-2 id-4\n"
          ],
          "name": "stdout"
        }
      ]
    },
    {
      "cell_type": "code",
      "metadata": {
        "id": "znEoWIVw7SLj",
        "colab_type": "code",
        "colab": {}
      },
      "source": [
        ""
      ],
      "execution_count": 0,
      "outputs": []
    }
  ]
}